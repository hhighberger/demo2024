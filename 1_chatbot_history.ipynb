{
 "cells": [
  {
   "cell_type": "markdown",
   "id": "fccf5dd5-145b-4a1b-841f-5fab6fec047a",
   "metadata": {},
   "source": [
    "Install packages"
   ]
  },
  {
   "cell_type": "code",
   "execution_count": null,
   "id": "9a3be0a6-8c14-4203-88d6-b680ea30b989",
   "metadata": {},
   "outputs": [],
   "source": [
    "pip install -q langchain\n",
    "pip install -q langchain-community\n",
    "pip install -q langchain-chroma\n",
    "pip install -q langchain-openai"
   ]
  },
  {
   "cell_type": "markdown",
   "id": "0120572b-5941-4635-b2a7-a801dc3db208",
   "metadata": {},
   "source": [
    "Import packages"
   ]
  },
  {
   "cell_type": "code",
   "execution_count": null,
   "id": "8940e634-800e-4d00-9d4d-588059a2b7cf",
   "metadata": {},
   "outputs": [],
   "source": [
    "import os\n",
    "from langchain_core.chat_history import BaseChatMessageHistory, InMemoryChatMessageHistory\n",
    "from langchain_core.messages import AIMessage, HumanMessage\n",
    "from langchain_core.runnables.history import RunnableWithMessageHistory\n",
    "from langchain_openai import ChatOpenAI\n",
    "\n",
    "os.environ[\"OPENAI_API_KEY\"] = \"\""
   ]
  },
  {
   "cell_type": "markdown",
   "id": "5ddb5d92-2e4d-4d69-93c1-9494acf39081",
   "metadata": {},
   "source": [
    "Initiate model"
   ]
  },
  {
   "cell_type": "code",
   "execution_count": null,
   "id": "7877ae75-c0ae-4c58-a10e-fb61b2a6b4e7",
   "metadata": {},
   "outputs": [],
   "source": [
    "model = ChatOpenAI(model=\"gpt-4o-mini\")"
   ]
  },
  {
   "cell_type": "markdown",
   "id": "34ef1d87-16cf-4f91-a0f2-2f1492f14341",
   "metadata": {},
   "source": [
    "Hello World with your chatbot!"
   ]
  },
  {
   "cell_type": "code",
   "execution_count": null,
   "id": "61677121-9bec-491b-825e-3f0628ed557b",
   "metadata": {},
   "outputs": [],
   "source": [
    "resp1 = model.invoke([HumanMessage(content=\"Hi! I'm Bob\")])\n",
    "print(resp1.content)"
   ]
  },
  {
   "cell_type": "markdown",
   "id": "cef4fa28-7220-4ee0-b871-a1a43a078432",
   "metadata": {},
   "source": [
    "Does it remember you?"
   ]
  },
  {
   "cell_type": "code",
   "execution_count": null,
   "id": "0be3e020-22f6-4ada-a4cd-886372cea639",
   "metadata": {},
   "outputs": [],
   "source": [
    "resp2 = model.invoke([HumanMessage(content=\"What's my name?\")])\n",
    "print(resp2.content)"
   ]
  },
  {
   "cell_type": "markdown",
   "id": "78779678-2b99-417e-aa34-dc56bdcfa040",
   "metadata": {},
   "source": [
    "Let's give it some memory!"
   ]
  },
  {
   "cell_type": "code",
   "execution_count": null,
   "id": "6517535e-7eac-4048-997d-5af35588c23b",
   "metadata": {},
   "outputs": [],
   "source": [
    "def get_session_history(session_id: str) -> BaseChatMessageHistory:\n",
    "    if session_id not in store:\n",
    "        store[session_id] = InMemoryChatMessageHistory()\n",
    "    return store[session_id]\n",
    "\n",
    "store = {}\n",
    "model_with_history = RunnableWithMessageHistory(model, get_session_history)"
   ]
  },
  {
   "cell_type": "markdown",
   "id": "c47acba1-5e05-4912-94a1-980e139b01a2",
   "metadata": {},
   "source": [
    "Tell it your name again..."
   ]
  },
  {
   "cell_type": "code",
   "execution_count": null,
   "id": "652e5c94-05c0-4111-b14a-51e2b7b9f875",
   "metadata": {},
   "outputs": [],
   "source": [
    "response = model_with_history.invoke(\n",
    "    [HumanMessage(content=\"Hi! I'm Bob\")],\n",
    "    config={\"configurable\": {\"session_id\": \"test1\"}},\n",
    ")\n",
    "\n",
    "print(response.content)"
   ]
  },
  {
   "cell_type": "markdown",
   "id": "1355c923-0860-41ec-892b-c4edecd814f1",
   "metadata": {},
   "source": [
    "...now it remembers!"
   ]
  },
  {
   "cell_type": "code",
   "execution_count": null,
   "id": "10c73f2a-efc7-4b4b-ac47-4cda1a6c04a4",
   "metadata": {},
   "outputs": [],
   "source": [
    "response = model_with_history.invoke(\n",
    "    [HumanMessage(content=\"What's my name?\")],\n",
    "    config={\"configurable\": {\"session_id\": \"test1\"}},\n",
    ")\n",
    "\n",
    "print(response.content)"
   ]
  },
  {
   "cell_type": "markdown",
   "id": "7cb34a14-3c02-42c6-b71d-0b65e1131e57",
   "metadata": {},
   "source": [
    "Manage multiple chat histories at once by changing session_id"
   ]
  },
  {
   "cell_type": "code",
   "execution_count": null,
   "id": "67f2fe4f-9fca-4276-9e98-2e87cc3fbe79",
   "metadata": {},
   "outputs": [],
   "source": [
    "response = model_with_history.invoke(\n",
    "    [HumanMessage(content=\"What's my name?\")],\n",
    "    config={\"configurable\": {\"session_id\": \"test2\"}},\n",
    ")\n",
    "\n",
    "print(response.content)"
   ]
  },
  {
   "cell_type": "markdown",
   "id": "3d132a3e-6ecc-49d7-95e8-207e8025fbde",
   "metadata": {},
   "source": [
    "Let's inspect the history to see what's being passed in the prompt"
   ]
  },
  {
   "cell_type": "code",
   "execution_count": null,
   "id": "5aac6ede-bdd5-4f4e-991c-5838c17f4919",
   "metadata": {},
   "outputs": [],
   "source": [
    "for message in store[\"test1\"].messages:\n",
    "    if isinstance(message, AIMessage):\n",
    "        prefix = \"AI\"\n",
    "    else:\n",
    "        prefix = \"User\"\n",
    "    print(f\"{prefix}: {message.content}\\n\")"
   ]
  }
 ],
 "metadata": {
  "kernelspec": {
   "display_name": "Python 3 (ipykernel)",
   "language": "python",
   "name": "python3"
  },
  "language_info": {
   "codemirror_mode": {
    "name": "ipython",
    "version": 3
   },
   "file_extension": ".py",
   "mimetype": "text/x-python",
   "name": "python",
   "nbconvert_exporter": "python",
   "pygments_lexer": "ipython3",
   "version": "3.11.9"
  }
 },
 "nbformat": 4,
 "nbformat_minor": 5
}
