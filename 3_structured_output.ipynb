{
 "cells": [
  {
   "cell_type": "markdown",
   "id": "ccb16261-5c24-4981-9a25-bf84ee7dec56",
   "metadata": {},
   "source": [
    "Import packages"
   ]
  },
  {
   "cell_type": "code",
   "execution_count": null,
   "id": "a52dc2de-df65-48ed-8cd5-6fc1258b88b3",
   "metadata": {},
   "outputs": [],
   "source": [
    "import os\n",
    "\n",
    "from langchain.schema.runnable import RunnablePassthrough\n",
    "from langchain_core.output_parsers import StrOutputParser\n",
    "from langchain_core.prompts import PromptTemplate\n",
    "from langchain_core.pydantic_v1 import BaseModel, Field\n",
    "from langchain_core.runnables import RunnableParallel\n",
    "from langchain_openai import ChatOpenAI\n",
    "from typing import Optional\n",
    "\n",
    "os.environ[\"OPENAI_API_KEY\"] = \"\""
   ]
  },
  {
   "cell_type": "markdown",
   "id": "f5ff2b44-4298-4a80-939e-c74f38bbb922",
   "metadata": {},
   "source": [
    "Initiate model"
   ]
  },
  {
   "cell_type": "code",
   "execution_count": null,
   "id": "a69f9672-e456-4925-ba71-335373f2d1ed",
   "metadata": {},
   "outputs": [],
   "source": [
    "model = ChatOpenAI(model=\"gpt-4o-mini\")"
   ]
  },
  {
   "cell_type": "markdown",
   "id": "bb90e15d-9a18-40a0-af4c-e7b772461649",
   "metadata": {},
   "source": [
    "Define class with requirements for structured output"
   ]
  },
  {
   "cell_type": "code",
   "execution_count": null,
   "id": "822d8819-86b1-43e8-9a2b-f683b0275cd3",
   "metadata": {},
   "outputs": [],
   "source": [
    "class Joke(BaseModel):\n",
    "    \"\"\"Joke to tell user.\"\"\"\n",
    "\n",
    "    setup: str = Field(description=\"The setup of the joke\")\n",
    "    punchline: str = Field(description=\"The punchline to the joke\")\n",
    "    rating: Optional[int] = Field(description=\"How funny the joke is, from 1 to 10\")\n"
   ]
  },
  {
   "cell_type": "code",
   "execution_count": null,
   "id": "61e66c5c-c136-440c-bd55-84b91d65f779",
   "metadata": {},
   "outputs": [],
   "source": [
    "structured_model = model.with_structured_output(Joke)\n",
    "\n",
    "response = structured_model.invoke(\"Tell me a joke about cats\")\n",
    "print(response)"
   ]
  },
  {
   "cell_type": "markdown",
   "id": "ac9a0dfe-5234-45e0-9b55-5ae3495c4544",
   "metadata": {},
   "source": [
    "Let's try a different structured output"
   ]
  },
  {
   "cell_type": "code",
   "execution_count": null,
   "id": "552bd0c8-73b3-46b1-8453-b0a836853699",
   "metadata": {},
   "outputs": [],
   "source": [
    "class Person(BaseModel):\n",
    "    \"\"\"Information about a person.\"\"\"\n",
    "    # ^ Doc-string for the entity Person.\n",
    "    # This doc-string is sent to the LLM as the description of the schema Person,\n",
    "    # and it can help to improve extraction results.\n",
    "    # Note that:\n",
    "    # 1. Each field is an `optional` -- this allows the model to decline to extract it!\n",
    "    # 2. Each field has a `description` -- this description is used by the LLM.\n",
    "    # Having a good description can help improve extraction results.\n",
    "    name: Optional[str] = Field(default=None, description=\"The name of the person\")\n",
    "    year_of_birth: Optional[int] = Field(default=None, description=\"The year the person was born\")\n",
    "    position: Optional[str] = Field(default=None, description=\"The person's job title or position\")\n",
    "    hair_color: Optional[str] = Field(default=None, description=\"The color of the person's hair\")\n",
    "    spouse: Optional[str] = Field(default=None, description=\"The name of the person's spouse\")\n",
    "    significance: Optional[str] = Field(default=None, description=\"A one-sentence summary of the person's societal or historical significance\")\n"
   ]
  },
  {
   "cell_type": "code",
   "execution_count": null,
   "id": "d7a3977e-f4d3-4528-a6fa-b60466a2c52b",
   "metadata": {},
   "outputs": [],
   "source": [
    "structured_model = model.with_structured_output(Person)\n",
    "\n",
    "response = structured_model.invoke(\"Tell me about the second president of the United States\")\n",
    "print(response)"
   ]
  },
  {
   "cell_type": "code",
   "execution_count": null,
   "id": "eb2e82be-62e5-46bb-88c0-4d73e3e44277",
   "metadata": {},
   "outputs": [],
   "source": []
  }
 ],
 "metadata": {
  "kernelspec": {
   "display_name": "Python 3 (ipykernel)",
   "language": "python",
   "name": "python3"
  },
  "language_info": {
   "codemirror_mode": {
    "name": "ipython",
    "version": 3
   },
   "file_extension": ".py",
   "mimetype": "text/x-python",
   "name": "python",
   "nbconvert_exporter": "python",
   "pygments_lexer": "ipython3",
   "version": "3.10.14"
  }
 },
 "nbformat": 4,
 "nbformat_minor": 5
}
